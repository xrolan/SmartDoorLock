{
 "cells": [
  {
   "cell_type": "code",
   "execution_count": 1,
   "metadata": {},
   "outputs": [],
   "source": [
    "import os\n",
    "import shutil"
   ]
  },
  {
   "cell_type": "code",
   "execution_count": 2,
   "metadata": {},
   "outputs": [
    {
     "name": "stdout",
     "output_type": "stream",
     "text": [
      "There is 50 picture in Akshay Kumar\n",
      "There is 92 picture in Alexandra Daddario\n",
      "There is 79 picture in Alia Bhatt\n",
      "There is 74 picture in Amitabh Bachchan\n",
      "There is 92 picture in Andy Samberg\n",
      "There is 68 picture in Anushka Sharma\n",
      "There is 98 picture in Billie Eilish\n",
      "There is 120 picture in Brad Pitt\n",
      "There is 87 picture in Camila Cabello\n",
      "There is 78 picture in Charlize Theron\n",
      "There is 96 picture in Claire Holt\n",
      "There is 80 picture in Courtney Cox\n",
      "There is 61 picture in Dwayne Johnson\n",
      "There is 71 picture in Elizabeth Olsen\n",
      "There is 75 picture in Ellen Degeneres\n",
      "There is 106 picture in Henry Cavill\n",
      "There is 101 picture in Hrithik Roshan\n",
      "There is 112 picture in Hugh Jackman\n",
      "There is 108 picture in Jessica Alba\n",
      "There is 30 picture in Kashyap\n",
      "There is 70 picture in Lisa Kudrow\n",
      "There is 72 picture in Margot Robbie\n",
      "There is 32 picture in Marmik\n",
      "There is 105 picture in Natalie Portman\n",
      "There is 102 picture in Priyanka Chopra\n",
      "There is 113 picture in Robert Downey Jr\n",
      "There is 77 picture in Roger Federer\n",
      "There is 58 picture in Tom Cruise\n",
      "There is 115 picture in Vijay Deverakonda\n",
      "There is 49 picture in Virat Kohli\n",
      "There is 91 picture in Zac Efron\n"
     ]
    }
   ],
   "source": [
    "sz = []\n",
    "\n",
    "DATASET_PATH = \"./31facedataset/Original Images/Original Images\"\n",
    "for dir in os.listdir(DATASET_PATH):\n",
    "  cnt = 0\n",
    "  for pic in os.listdir(os.path.join(DATASET_PATH, dir)):\n",
    "    cnt += 1\n",
    "  print(f\"There is {cnt} picture in {dir}\")\n",
    "  sz.append(cnt)"
   ]
  },
  {
   "cell_type": "markdown",
   "metadata": {},
   "source": [
    "## Split data with no unknown (all labeled)"
   ]
  },
  {
   "cell_type": "code",
   "execution_count": null,
   "metadata": {},
   "outputs": [],
   "source": [
    "DATASET_PATH = \"./31facedataset/Original Images/Original Images\"\n",
    "TRAIN_PATH = \"./31facesdata/train/\"\n",
    "VAL_PATH = \"./31facesdata/val/\"\n",
    "\n",
    "for dir in os.listdir(DATASET_PATH):\n",
    "  person_path = TRAIN_PATH + dir\n",
    "  os.mkdir(person_path)\n",
    "  person_path = VAL_PATH + dir\n",
    "  os.mkdir(person_path)"
   ]
  },
  {
   "cell_type": "code",
   "execution_count": 4,
   "metadata": {},
   "outputs": [],
   "source": [
    "TRAIN_PATH = \".\\\\31facesdata\\\\train\"\n",
    "VAL_PATH = \".\\\\31facesdata\\\\val\"\n",
    "\n",
    "for i, dir in enumerate(os.listdir(DATASET_PATH)):\n",
    "  cnt = 0\n",
    "  for pic in os.listdir(os.path.join(DATASET_PATH, dir)):\n",
    "    if cnt <= 20:\n",
    "      new_path = TRAIN_PATH + '\\\\' + dir\n",
    "      shutil.copy(os.path.join(os.path.join(DATASET_PATH, dir), pic), new_path)\n",
    "    else:\n",
    "      new_path = VAL_PATH + '\\\\' + dir\n",
    "      shutil.copy(os.path.join(os.path.join(DATASET_PATH, dir), pic), new_path)\n",
    "    cnt += 1\n",
    "    if cnt > 40:\n",
    "      break"
   ]
  },
  {
   "cell_type": "markdown",
   "metadata": {},
   "source": [
    "## Split data with some unknown (no label)"
   ]
  },
  {
   "cell_type": "code",
   "execution_count": 5,
   "metadata": {},
   "outputs": [],
   "source": [
    "DATASET_PATH = \"./31facedataset/Original Images/Original Images\"\n",
    "TRAIN_PATH = \"./31facesdata_unknown/train/\"\n",
    "VAL_PATH = \"./31facesdata_unknown/val/\"\n",
    "\n",
    "for id, dir in enumerate(os.listdir(DATASET_PATH)):\n",
    "  if id <= 20:\n",
    "    person_path = TRAIN_PATH + dir\n",
    "    os.mkdir(person_path)\n",
    "    person_path = VAL_PATH + dir\n",
    "    os.mkdir(person_path)\n",
    "  else:\n",
    "    person_path = VAL_PATH + \"unknown\"\n",
    "    os.mkdir(person_path)\n",
    "    break"
   ]
  },
  {
   "cell_type": "code",
   "execution_count": 6,
   "metadata": {},
   "outputs": [],
   "source": [
    "TRAIN_PATH = \".\\\\31facesdata_unknown\\\\train\"\n",
    "VAL_PATH = \".\\\\31facesdata_unknown\\\\val\"\n",
    "\n",
    "for i, dir in enumerate(os.listdir(DATASET_PATH)):\n",
    "  if i <= 20:\n",
    "    for cnt, pic in enumerate(os.listdir(os.path.join(DATASET_PATH, dir))):\n",
    "      if cnt < 20:\n",
    "        new_path = TRAIN_PATH + '\\\\' + dir\n",
    "        shutil.copy(os.path.join(os.path.join(DATASET_PATH, dir), pic), new_path)\n",
    "      else:\n",
    "        new_path = VAL_PATH + '\\\\' + dir\n",
    "        shutil.copy(os.path.join(os.path.join(DATASET_PATH, dir), pic), new_path)\n",
    "      if cnt > 40:\n",
    "        break\n",
    "  else:\n",
    "    for cnt, pic in enumerate(os.listdir(os.path.join(DATASET_PATH, dir))):\n",
    "      new_path = VAL_PATH + '\\\\' + \"unknown\"\n",
    "      shutil.copy(os.path.join(os.path.join(DATASET_PATH, dir), pic), new_path)\n",
    "      if cnt > 40:\n",
    "        break"
   ]
  }
 ],
 "metadata": {
  "kernelspec": {
   "display_name": "gradio_venv",
   "language": "python",
   "name": "python3"
  },
  "language_info": {
   "codemirror_mode": {
    "name": "ipython",
    "version": 3
   },
   "file_extension": ".py",
   "mimetype": "text/x-python",
   "name": "python",
   "nbconvert_exporter": "python",
   "pygments_lexer": "ipython3",
   "version": "3.10.9"
  }
 },
 "nbformat": 4,
 "nbformat_minor": 2
}
